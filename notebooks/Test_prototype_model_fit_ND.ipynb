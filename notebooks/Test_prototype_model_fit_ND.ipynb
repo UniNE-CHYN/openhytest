{
 "cells": [
  {
   "cell_type": "markdown",
   "metadata": {},
   "source": [
    "# Prototype for analytical model classes\n",
    "\n",
    "The aim of this worksheet is to experiment and design a set of classes for expressing analytical models for well test interpretation. The general idea is that there should be a parent generic class and a set of derived classes allowing to avoid repeating code.\n",
    "\n",
    "In this first prototype, I consider only the generic parent class and two daughter classes.\n",
    "\n",
    "Nov. 7 2019 - P. Renard\n",
    "\n",
    "Nov. 20 2019 - N. Dutler (noflow, consthead incl. laplace)\n",
    "\n",
    "Dec. 14 2019 - N. Dutler (Cooper-Bredehoeft-Papadopulos)\n",
    "\n",
    "Dec. 30 2019 - N. Dutler (Report, self operator includes now all solutions and statistics from fit)\n",
    "\n",
    "Jan. 10 2020 - N. Dutler (Jacob-Lohman, Demo Theis, change preprocessing to class)\n",
    "\n",
    "Feb. 10 2020 - N. Dutler (GRF)\n",
    "\n",
    "Apr. .. 2020 - N. Dutller (Argrawal time, Birsoy time, Warren&Root)\n",
    "\n",
    "Jun. 15 2020 - N. Dutler (stehfest, dehoog, many changes related to fit function to speed up the calculations)\n"
   ]
  },
  {
   "cell_type": "code",
   "execution_count": 1,
   "metadata": {},
   "outputs": [],
   "source": [
    "%matplotlib inline\n",
    "import sys\n",
    "sys.path.append(\"..\")\n",
    "import openhytest as ht\n",
    "import mpmath as mp\n",
    "import numpy as np\n",
    "import pandas as pd\n",
    "import matplotlib.pyplot as plt\n",
    "from scipy.optimize import least_squares\n",
    "from scipy.special import factorial"
   ]
  },
  {
   "cell_type": "code",
   "execution_count": 2,
   "metadata": {},
   "outputs": [
    {
     "name": "stderr",
     "output_type": "stream",
     "text": [
      "/Users/nathan/opt/anaconda3/lib/python3.7/site-packages/ipykernel_launcher.py:7: ParserWarning: Falling back to the 'python' engine because the 'c' engine does not support regex separators (separators > 1 char and different from '\\s+' are interpreted as regex); you can avoid this warning by specifying engine='python'.\n",
      "  import sys\n"
     ]
    }
   ],
   "source": [
    "# Read a data set to test ideas\n",
    "df1 = pd.read_csv('../data/ths_ds1.txt', header=None,sep=\" \",names=['t','s'], dtype={'t': 'float64', 's': 'float64'})\n",
    "df2 = pd.read_csv('../data/thn_ds1.txt', header=None,sep=\" \",names=['t','s'], dtype={'t': 'float64', 's': 'float64'})\n",
    "df3 = pd.read_csv('../data/thc_ds1.txt', header=None,sep=\" \",names=['t','s'], dtype={'t': 'float64', 's': 'float64'})\n",
    "df4 = pd.read_csv('../data/pca_ds1.txt', header=None,sep=\" \",names=['t','s'], dtype={'t': 'float64', 's': 'float64'})\n",
    "df5 = pd.read_csv('../data/jlq_ds1.txt', header=None,sep=\" \",names=['t','q'], dtype={'t': 'float64', 'q': 'float64'})\n",
    "df6 = pd.read_csv('../data/tmc_ds1.txt', header=None,sep=\"  \",names=['t','q'], dtype={'t': 'float64', 'q': 'float64'})\n",
    "df7 = pd.read_csv('../data/tmr_ds1.txt', header=None,sep=\" \",names=['t','s'], dtype={'t': 'float64', 's': 'float64'})"
   ]
  },
  {
   "cell_type": "markdown",
   "metadata": {},
   "source": [
    "Below is the part where the classes are defined in order to test the concept.\n",
    "\n",
    "The first thing is to define a generic class AnalyticalModels of analytical models that should contain all the generic functionalities.  Then, we derive two examples of daughter classes: the theis and theis_noflow models. \n",
    "\n",
    "The theis_noflow model is wrong (wrong equations and parametrizations and needs to be corrected), but the principle seems to work.\n",
    "\n",
    "The next steps would be to implement:\n",
    "- the fit function\n",
    "- one or a pair of examples with laplace domain solution\n"
   ]
  },
  {
   "cell_type": "code",
   "execution_count": 3,
   "metadata": {},
   "outputs": [
    {
     "name": "stderr",
     "output_type": "stream",
     "text": [
      "../openhytest/modelclasses.py:2476: UserWarning: Attempted to set non-positive left xlim on a log-scaled axis.\n",
      "Invalid limit will be ignored.\n",
      "  plt.xlim((0, 10))\n"
     ]
    },
    {
     "data": {
      "image/png": "[encoded data removed]",
      "text/plain": [
       "<Figure size 432x288 with 1 Axes>"
      ]
     },
     "metadata": {
      "needs_background": "light"
     },
     "output_type": "display_data"
    }
   ],
   "source": [
    "slug = ht.Hvorslev()\n",
    "slug.plot_typecurve()"
   ]
  },
  {
   "cell_type": "code",
   "execution_count": null,
   "metadata": {},
   "outputs": [],
   "source": []
  },
  {
   "cell_type": "markdown",
   "metadata": {},
   "source": [
    "# How to create a type curve"
   ]
  },
  {
   "cell_type": "code",
   "execution_count": null,
   "metadata": {},
   "outputs": [],
   "source": [
    "abaque = ht.Theis()\n",
    "abaque.plot_typecurve()"
   ]
  },
  {
   "cell_type": "code",
   "execution_count": null,
   "metadata": {},
   "outputs": [],
   "source": [
    "td = np.logspace(-1, 4)\n",
    "abaque.fitcoeff = 12\n",
    "abaque._coeff()\n",
    "sd = abaque._laplace_drawdown(td, inversion_option='stehfest')\n",
    "sd4 = abaque._laplace_drawdown(td, inversion_option='dehoog')\n",
    "plt.loglog(td, sd)\n",
    "#dev = ht.ldiffs(pd.DataFrame({'td':td, 'sd':sd}))\n",
    "dd = abaque._laplace_drawdown_derivative(td, inversion_option='stehfest')\n",
    "dd4 = abaque._laplace_drawdown_derivative(td, inversion_option='dehoog')\n",
    "plt.xlabel('$t_D / r_D^2$')\n",
    "plt.ylabel('$s_D$')\n",
    "plt.plot(td,dd, '--')\n",
    "plt.xlim((1e-1, 1e4))\n",
    "plt.ylim((1e-2, 1e1))\n",
    "plt.grid('True')"
   ]
  },
  {
   "cell_type": "code",
   "execution_count": null,
   "metadata": {},
   "outputs": [],
   "source": [
    "#Stehfest check\n",
    "M = np.int(12)\n",
    "V = np.zeros(M)\n",
    "for i in range(1,M+1):\n",
    "    vi = 0\n",
    "    for k in range(np.int((i+1)/2),np.int(np.min([i,M/2]))+1):\n",
    "        vi = vi + (k**(M/2)*factorial(2*k))/(factorial(np.int(M/2-k))*factorial(k)*factorial(k-1)*factorial(i-k)*factorial(2*k-i))\n",
    "    V[i-1] = (-1) ** ((M/2)+i)*vi\n",
    "print(V)"
   ]
  },
  {
   "cell_type": "code",
   "execution_count": null,
   "metadata": {},
   "outputs": [],
   "source": [
    "p = np.zeros([M, np.size(td)])\n",
    "for i in range(1,M+1):\n",
    "    p[i-1] = i*np.log(2)/td\n",
    "uu = abaque.dimensionless_laplace(p)\n",
    "VV = np.repeat(V, np.size(td)).reshape(M,np.size(td))\n",
    "su = np.multiply(VV, uu)\n",
    "s = np.log(2)/td*sum(su)\n",
    "print(s)"
   ]
  },
  {
   "cell_type": "code",
   "execution_count": null,
   "metadata": {},
   "outputs": [],
   "source": [
    "sd2 = abaque.dimensionless(td)\n",
    "residual = sd-sd2\n",
    "\n",
    "mr = np.mean(residual) #mean resiudal\n",
    "print(mr)\n",
    "sr = 2 * np.std(residual) #standard deviation\n",
    "print(sr)\n",
    "rms = np.sqrt(np.mean(residual**2))\n",
    "print(rms)"
   ]
  },
  {
   "cell_type": "code",
   "execution_count": null,
   "metadata": {},
   "outputs": [],
   "source": [
    "dd2 = abaque.dimensionless_logderivative(td)\n",
    "residual2 = dd-dd2\n",
    "\n",
    "mr2 = np.mean(residual2) #mean resiudal\n",
    "print(mr2)\n",
    "sr2 = 2 * np.std(residual2) #standard deviation\n",
    "print(sr2)\n",
    "rms2 = np.sqrt(np.mean(residual2**2))\n",
    "print(rms2)"
   ]
  },
  {
   "cell_type": "code",
   "execution_count": null,
   "metadata": {},
   "outputs": [],
   "source": [
    "#dehoog check\n",
    "alpha = 0\n",
    "tol = 1e-9\n",
    "M = 20 \n",
    "logallt = np.log10(td)\n",
    "iminlogallt = np.floor(np.min(logallt))\n",
    "imaxlogallt = np.ceil(np.max(logallt))\n",
    "f = []\n",
    "for ilogt in range(np.int(iminlogallt), np.int(imaxlogallt)+1):\n",
    "    t = td[((logallt>=ilogt) & (logallt<(ilogt+1)))]\n",
    "    if t is not None:\n",
    "        T = 2 * np.max(t)\n",
    "        gamma = alpha - np.log(tol) / (2*T)\n",
    "        run = np.linspace(0,2*M, 2*M+1)\n",
    "        p = gamma + 1j * np.pi * run / T    \n",
    "        a = abaque.dimensionless_laplace(p)#Fp(p);      # evaluate function\n",
    "        a[0] = a[0] / 2 # zero term is halved\n",
    "        # build up e and q tables.\n",
    "        e = np.zeros((2*M+1, M+1), dtype=complex)\n",
    "        q = np.zeros((2*M, M+1), dtype=complex)\n",
    "        q[:,1] = a[1:2*M+1]/a[0:2*M]\n",
    "        for r in np.arange(1,M+1):\n",
    "            e[0:2*(M-r)+1,r] = q[1:2*(M-r)+2,r] - q[0:2*(M-r)+1,r] + e[1:2*(M-r)+2,r-1]\n",
    "            if r < M:\n",
    "                rq = r + 1\n",
    "                q[0:2*(M-rq)+2,rq] = q[1:2*(M-rq)+3,rq-1]*e[1:2*(M-rq)+3,rq-1]/e[0:2*(M-rq)+2,rq-1]\n",
    "        # build up d vector  \n",
    "        d = np.zeros((2*M+1,1), dtype=complex)\n",
    "        d[0] = a[0]\n",
    "        d[1:2*M:2] = np.vstack(-q[0,1:M+1])\n",
    "        d[2:2*M+1:2] = np.vstack(-e[0,1:M+1])\n",
    "        # build up A and B matrix\n",
    "        A = np.zeros((2*M+2,len(t)), dtype=complex)\n",
    "        B = np.zeros((2*M+2,len(t)), dtype=complex)\n",
    "        A[1,:] = d[0,0]*np.ones((1,len(t)))\n",
    "        B[0,:] = np.ones((1,len(t)))\n",
    "        B[1,:] = np.ones((1,len(t)))\n",
    "        z = np.exp(1j*np.pi*t/T)\n",
    "        for n in np.arange(2, 2*M+2):\n",
    "            A[n,:] = A[n-1,:] + d[n-1]*np.ones((1,len(t)))*z*A[n-2,:]\n",
    "            B[n,:] = B[n-1,:] + d[n-1]*np.ones((1,len(t)))*z*B[n-2,:]\n",
    "            \n",
    "        h2M = .5 * ( np.ones((1,len(t))) + ( d[2*M-1]-d[2*M] ) * np.ones((1,len(t))) * z )\n",
    "        R2Mz = -h2M*(np.ones((1,len(t))) - (np.ones((1,len(t))) + d[2*M]*np.ones((1,len(t))) * z / h2M ** 2) ** 5)\n",
    "        A[2*M+1,:] = A[2*M,:] + R2Mz * A[2*M-1,:]\n",
    "        B[2*M+1,:] = B[2*M,:] + R2Mz * B[2*M-1,:]\n",
    "        fpiece = np.array(1/T * np.exp(gamma * t) * np.real(A[2*M+1,:] / B[2*M+1,:]))\n",
    "        f = np.append(f, np.hstack(fpiece))\n",
    "print(f)"
   ]
  },
  {
   "cell_type": "code",
   "execution_count": null,
   "metadata": {},
   "outputs": [],
   "source": [
    "residual = sd4-sd2\n",
    "\n",
    "mr = np.mean(residual) #mean resiudal\n",
    "print(mr)\n",
    "sr = 2 * np.std(residual) #standard deviation\n",
    "print(sr)\n",
    "rms = np.sqrt(np.mean(residual**2))\n",
    "print(rms)\n",
    "\n",
    "residual2 = dd4-dd2\n",
    "\n",
    "mr2 = np.mean(residual2) #mean resiudal\n",
    "print(mr2)\n",
    "sr2 = 2 * np.std(residual2) #standard deviation\n",
    "print(sr2)\n",
    "rms2 = np.sqrt(np.mean(residual2**2))\n",
    "print(rms2)"
   ]
  },
  {
   "cell_type": "markdown",
   "metadata": {},
   "source": [
    "# How to adjust a Theis model using guess_params and the fit function"
   ]
  },
  {
   "cell_type": "code",
   "execution_count": null,
   "metadata": {},
   "outputs": [],
   "source": [
    "apaque= ht.Theis(Q=1.3888e-2, r=250, df=df1)\n",
    "p = apaque.guess_params()\n",
    "print(\"estimated parameter vector:\",p)\n",
    "apaque.trial()"
   ]
  },
  {
   "cell_type": "code",
   "execution_count": null,
   "metadata": {},
   "outputs": [],
   "source": [
    "p = apaque.fit(fitmethod='lm')\n",
    "print(p)\n",
    "apaque.trial()"
   ]
  },
  {
   "cell_type": "code",
   "execution_count": null,
   "metadata": {},
   "outputs": [],
   "source": [
    "apaque.rpt(author='N. Dutler', filetype='png')"
   ]
  },
  {
   "cell_type": "markdown",
   "metadata": {},
   "source": [
    "# Moving to no flow model"
   ]
  },
  {
   "cell_type": "code",
   "execution_count": null,
   "metadata": {},
   "outputs": [],
   "source": [
    "model = ht.Theis_noflow(Rd=33)\n",
    "model.plot_typecurve()"
   ]
  },
  {
   "cell_type": "code",
   "execution_count": null,
   "metadata": {},
   "outputs": [],
   "source": [
    "td = np.logspace(-2, 5)\n",
    "sd = model._laplace_drawdown(td, inversion_option='dehoog')\n",
    "plt.loglog(td, sd)\n",
    "dd = model._laplace_drawdown_derivative(td, inversion_option='dehoog')\n",
    "plt.loglog(td, dd)\n",
    "plt.xlabel('$t_D / r_D^2$')\n",
    "plt.ylabel('$s_D$')\n",
    "plt.xlim((1e-2, 1e5))\n",
    "plt.ylim((1e-2, 20))\n",
    "plt.grid('True')"
   ]
  },
  {
   "cell_type": "code",
   "execution_count": null,
   "metadata": {},
   "outputs": [],
   "source": [
    "sd2 = model.dimensionless(td)\n",
    "residual = sd-sd2\n",
    "\n",
    "mr = np.mean(residual) #mean resiudal\n",
    "print(mr)\n",
    "sr = 2 * np.std(residual) #standard deviation\n",
    "print(sr)\n",
    "rms = np.sqrt(np.mean(residual**2))\n",
    "print(rms)"
   ]
  },
  {
   "cell_type": "code",
   "execution_count": null,
   "metadata": {},
   "outputs": [],
   "source": [
    "dd2 = model.dimensionless_logderivative(td)\n",
    "residual2 = dd-dd2\n",
    "\n",
    "mr2 = np.mean(residual2) #mean resiudal\n",
    "print(mr2)\n",
    "sr2 = 2 * np.std(residual2) #standard deviation\n",
    "print(sr2)\n",
    "rms2 = np.sqrt(np.mean(residual2**2))\n",
    "print(rms2)"
   ]
  },
  {
   "cell_type": "code",
   "execution_count": null,
   "metadata": {},
   "outputs": [],
   "source": [
    "model = ht.Theis_noflow(Q=0.0132,r=20, df=df2)\n",
    "p = model.guess_params()\n",
    "print(\"estimated parameter vector:\",p)\n",
    "model.trial()\n"
   ]
  },
  {
   "cell_type": "code",
   "execution_count": null,
   "metadata": {},
   "outputs": [],
   "source": [
    "p = model.fit(fitmethod='trf')\n",
    "p"
   ]
  },
  {
   "cell_type": "code",
   "execution_count": null,
   "metadata": {},
   "outputs": [],
   "source": [
    "model.trial()"
   ]
  },
  {
   "cell_type": "code",
   "execution_count": null,
   "metadata": {},
   "outputs": [],
   "source": [
    "model.rpt(fitmethod='trf')"
   ]
  },
  {
   "cell_type": "code",
   "execution_count": null,
   "metadata": {},
   "outputs": [],
   "source": []
  },
  {
   "cell_type": "markdown",
   "metadata": {},
   "source": [
    "# Moving to constant head model"
   ]
  },
  {
   "cell_type": "code",
   "execution_count": null,
   "metadata": {},
   "outputs": [],
   "source": [
    "bequer = ht.Theis_constanthead(Rd=33)\n",
    "bequer.plot_typecurve()"
   ]
  },
  {
   "cell_type": "code",
   "execution_count": null,
   "metadata": {},
   "outputs": [],
   "source": [
    "td = np.logspace(-2, 5)\n",
    "sdn = bequer._laplace_drawdown(td, inversion_option='dehoog')\n",
    "sd = list(sdn)\n",
    "plt.loglog(td, sd)\n",
    "ddn = bequer._laplace_drawdown_derivative(td, inversion_option='dehoog')\n",
    "dd = list(ddn)\n",
    "plt.loglog(td, dd)\n",
    "plt.xlabel('$t_D / r_D^2$')\n",
    "plt.ylabel('$s_D$')\n",
    "plt.xlim((1e-2, 1e5))\n",
    "plt.ylim((1e-2, 20))\n",
    "plt.grid('True')"
   ]
  },
  {
   "cell_type": "code",
   "execution_count": null,
   "metadata": {},
   "outputs": [],
   "source": [
    "sd2 = bequer.dimensionless(td)\n",
    "residual = sd-sd2\n",
    "\n",
    "mr = np.mean(residual) #mean resiudal\n",
    "print(mr)\n",
    "sr = 2 * np.std(residual) #standard deviation\n",
    "print(sr)\n",
    "rms = np.sqrt(np.mean(residual**2))\n",
    "print(rms)"
   ]
  },
  {
   "cell_type": "code",
   "execution_count": null,
   "metadata": {},
   "outputs": [],
   "source": [
    "dd2 = bequer.dimensionless_logderivative(td)\n",
    "residual2 = dd-dd2\n",
    "\n",
    "mr2 = np.mean(residual2) #mean resiudal\n",
    "print(mr2)\n",
    "sr2 = 2 * np.std(residual2) #standard deviation\n",
    "print(sr2)\n",
    "rms2 = np.sqrt(np.mean(residual2**2))\n",
    "print(rms2)"
   ]
  },
  {
   "cell_type": "code",
   "execution_count": null,
   "metadata": {},
   "outputs": [],
   "source": [
    "bequer = ht.Theis_constanthead(Q=0.030,r=20, df=df3)\n",
    "p = bequer.guess_params()\n",
    "print(\"estimated parameter vector:\",p)\n",
    "bequer.trial()"
   ]
  },
  {
   "cell_type": "code",
   "execution_count": null,
   "metadata": {},
   "outputs": [],
   "source": [
    "p = bequer.fit(option='trf')"
   ]
  },
  {
   "cell_type": "code",
   "execution_count": null,
   "metadata": {},
   "outputs": [],
   "source": [
    "bequer.trial()"
   ]
  },
  {
   "cell_type": "code",
   "execution_count": null,
   "metadata": {},
   "outputs": [],
   "source": [
    "bequer.rpt()"
   ]
  },
  {
   "cell_type": "markdown",
   "metadata": {},
   "source": [
    "# Cooper-Bredehoeft-Papadopulos (1967) model"
   ]
  },
  {
   "cell_type": "code",
   "execution_count": null,
   "metadata": {},
   "outputs": [],
   "source": [
    "coobredpapa = ht.CooperBredehoeftPapadopulos(r=1, rc=1)\n",
    "coobredpapa.plot_typecurve()"
   ]
  },
  {
   "cell_type": "code",
   "execution_count": null,
   "metadata": {},
   "outputs": [],
   "source": [
    "coobredpapa= ht.CooperBredehoeftPapadopulos(Q=0.0050472, r=3.048, rw=0.6096, rc=0.6096, df=df4)  \n",
    "p = coobredpapa.guess_params()\n",
    "print(\"estimated parameter vector:\",p)"
   ]
  },
  {
   "cell_type": "code",
   "execution_count": null,
   "metadata": {},
   "outputs": [],
   "source": [
    "coobredpapa.trial()"
   ]
  },
  {
   "cell_type": "code",
   "execution_count": null,
   "metadata": {},
   "outputs": [],
   "source": [
    "coobredpapa.rpt()"
   ]
  },
  {
   "cell_type": "code",
   "execution_count": null,
   "metadata": {},
   "outputs": [],
   "source": [
    "coobredpapa= ht.CooperBredehoeftPapadopulos(Q=0.0050472, r=3.048, rw=0.6096, rc=0.6096, cD=50, df=df4)  \n",
    "coobredpapa.guess_params()\n",
    "coobredpapa.rpt()"
   ]
  },
  {
   "cell_type": "markdown",
   "metadata": {},
   "source": [
    "# Jacob-Lohman (1952) model"
   ]
  },
  {
   "cell_type": "code",
   "execution_count": null,
   "metadata": {},
   "outputs": [],
   "source": [
    "jcl = ht.JacobLohman(s=28.142, r=0.084, df = df5)\n",
    "jcl.plot_typecurve()"
   ]
  },
  {
   "cell_type": "code",
   "execution_count": null,
   "metadata": {},
   "outputs": [],
   "source": [
    "jcl.guess_params()"
   ]
  },
  {
   "cell_type": "code",
   "execution_count": null,
   "metadata": {},
   "outputs": [],
   "source": [
    "jcl.fitcoeff = 16\n",
    "jcl.rpt()"
   ]
  },
  {
   "cell_type": "code",
   "execution_count": null,
   "metadata": {},
   "outputs": [],
   "source": []
  },
  {
   "cell_type": "code",
   "execution_count": null,
   "metadata": {},
   "outputs": [],
   "source": [
    "Qmat = [[30*60, 500/3600/24], \n",
    "        [80*60, 700/3600/24], \n",
    "        [130*60, 600/3600/24]]\n",
    "print(Qmat)\n",
    "pro=ht.preprocessing(df=df7, Qmat=Qmat)\n",
    "pro.diagnostic()\n",
    "aba = ht.Theis(df=df7)"
   ]
  },
  {
   "cell_type": "code",
   "execution_count": null,
   "metadata": {},
   "outputs": [],
   "source": [
    "aba.guess_params()"
   ]
  },
  {
   "cell_type": "markdown",
   "metadata": {},
   "source": [
    "## GRF Barker (1988)"
   ]
  },
  {
   "cell_type": "code",
   "execution_count": null,
   "metadata": {},
   "outputs": [],
   "source": [
    "genrad = ht.GRF()\n",
    "genrad.plot_typecurve()"
   ]
  },
  {
   "cell_type": "code",
   "execution_count": null,
   "metadata": {},
   "outputs": [],
   "source": []
  },
  {
   "cell_type": "code",
   "execution_count": null,
   "metadata": {},
   "outputs": [],
   "source": []
  }
 ],
 "metadata": {
  "kernelspec": {
   "display_name": "Python 3",
   "language": "python",
   "name": "python3"
  },
  "language_info": {
   "codemirror_mode": {
    "name": "ipython",
    "version": 3
   },
   "file_extension": ".py",
   "mimetype": "text/x-python",
   "name": "python",
   "nbconvert_exporter": "python",
   "pygments_lexer": "ipython3",
   "version": "3.7.6"
  }
 },
 "nbformat": 4,
 "nbformat_minor": 4
}

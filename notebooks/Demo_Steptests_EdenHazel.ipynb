{
 "cells": [
  {
   "cell_type": "markdown",
   "metadata": {},
   "source": [
    "# Step-drawdown test after Eden-Hazel (1973) method\n",
    " \n",
    "This notebook demonstrates how to use **OpenHyTest** for the interpretation of step-drawdwon test\n",
    "\n",
    "Copyright 2021 - Philippe Renard, Nathan Dutler & Bernard Brixel\n",
    "\n",
    "The data set for this example has been provided by: \n",
    "Kruseman and de Ridder (1994) Analysis and evaluation of pumping test data, ILRI Publication No. 47, Table 14.1 page 204.\n",
    "\n",
    "The original source of the data is: Clark, L. (1977) The analysis and planning of step-drawdown tests. Quarterly Journal of Engineering Geology and Hydrogeology 10(2):125-143\n",
    "\n",
    "First, we append the openhytest folder to the system path using the 'sys' library and import than the 'openhytest' library as ht. In addition, we import the 'matplotlib.pyplot' library for plotting and the 'pandas' library for data management. \n"
   ]
  },
  {
   "cell_type": "code",
   "execution_count": 1,
   "metadata": {},
   "outputs": [],
   "source": [
    "%matplotlib inline\n",
    "import sys\n",
    "sys.path.append(\"..\")\n",
    "import openhytest as ht\n",
    "import matplotlib.pyplot as plt\n",
    "import pandas as pd\n",
    "import numpy as np"
   ]
  },
  {
   "cell_type": "markdown",
   "metadata": {},
   "source": [
    "## Load the data\n",
    "\n",
    "Let us load the data to verify the the data graphically."
   ]
  },
  {
   "cell_type": "code",
   "execution_count": 2,
   "metadata": {},
   "outputs": [
    {
     "data": {
      "image/png": "[encoded data removed]",
      "text/plain": [
       "<Figure size 432x288 with 1 Axes>"
      ]
     },
     "metadata": {
      "needs_background": "light"
     },
     "output_type": "display_data"
    }
   ],
   "source": [
    "data = pd.read_csv('../data/eha_ds1.txt', header=None,sep=\",\",names=['t','s'], dtype={'t': 'float64', 's': 'float64'})\n",
    "plt.figure(1)\n",
    "ax = plt.gca()\n",
    "plt.plot(data.t, data.s, 'o', label='K data set')\n",
    "plt.xlabel('Time in seconds')\n",
    "plt.ylabel('Drawdown in meters')\n",
    "plt.grid('True')\n",
    "plt.legend()\n",
    "plt.show()"
   ]
  },
  {
   "cell_type": "markdown",
   "metadata": {},
   "source": [
    "Openhytest needs to know the duration of the pumping steps and the values of the pumping rates for each pumping step. This information\n",
    "is described and stored in the variable Qmat made of two columns (t, q) and as many raws as pumping steps. \n",
    "The first columns contains the time at which the pumping stoped, the second the values of the pumping rates. "
   ]
  },
  {
   "cell_type": "code",
   "execution_count": 17,
   "metadata": {},
   "outputs": [
    {
     "data": {
      "text/html": [
       "<div>\n",
       "<style scoped>\n",
       "    .dataframe tbody tr th:only-of-type {\n",
       "        vertical-align: middle;\n",
       "    }\n",
       "\n",
       "    .dataframe tbody tr th {\n",
       "        vertical-align: top;\n",
       "    }\n",
       "\n",
       "    .dataframe thead th {\n",
       "        text-align: right;\n",
       "    }\n",
       "</style>\n",
       "<table border=\"1\" class=\"dataframe\">\n",
       "  <thead>\n",
       "    <tr style=\"text-align: right;\">\n",
       "      <th></th>\n",
       "      <th>t</th>\n",
       "      <th>q</th>\n",
       "    </tr>\n",
       "  </thead>\n",
       "  <tbody>\n",
       "    <tr>\n",
       "      <th>0</th>\n",
       "      <td>10800.0</td>\n",
       "      <td>0.015116</td>\n",
       "    </tr>\n",
       "    <tr>\n",
       "      <th>1</th>\n",
       "      <td>21600.0</td>\n",
       "      <td>0.019595</td>\n",
       "    </tr>\n",
       "    <tr>\n",
       "      <th>2</th>\n",
       "      <td>32400.0</td>\n",
       "      <td>0.028044</td>\n",
       "    </tr>\n",
       "    <tr>\n",
       "      <th>3</th>\n",
       "      <td>43200.0</td>\n",
       "      <td>0.037743</td>\n",
       "    </tr>\n",
       "    <tr>\n",
       "      <th>4</th>\n",
       "      <td>54000.0</td>\n",
       "      <td>0.047384</td>\n",
       "    </tr>\n",
       "    <tr>\n",
       "      <th>5</th>\n",
       "      <td>64800.0</td>\n",
       "      <td>0.058090</td>\n",
       "    </tr>\n",
       "  </tbody>\n",
       "</table>\n",
       "</div>"
      ],
      "text/plain": [
       "         t         q\n",
       "0  10800.0  0.015116\n",
       "1  21600.0  0.019595\n",
       "2  32400.0  0.028044\n",
       "3  43200.0  0.037743\n",
       "4  54000.0  0.047384\n",
       "5  64800.0  0.058090"
      ]
     },
     "execution_count": 17,
     "metadata": {},
     "output_type": "execute_result"
    }
   ],
   "source": [
    "qm = pd.DataFrame(np.array([[10800, 1306/86400], [21600, 1693/86400], [32400, 2423/86400], [43200, 3261/86400], [54000, 4094/86400], [64800, 5019/86400]]), columns=['t', 'q'])\n",
    "qm"
   ]
  },
  {
   "cell_type": "code",
   "execution_count": null,
   "metadata": {},
   "outputs": [],
   "source": []
  },
  {
   "cell_type": "code",
   "execution_count": null,
   "metadata": {},
   "outputs": [],
   "source": []
  }
 ],
 "metadata": {
  "kernelspec": {
   "display_name": "Python 3",
   "language": "python",
   "name": "python3"
  },
  "language_info": {
   "codemirror_mode": {
    "name": "ipython",
    "version": 3
   },
   "file_extension": ".py",
   "mimetype": "text/x-python",
   "name": "python",
   "nbconvert_exporter": "python",
   "pygments_lexer": "ipython3",
   "version": "3.8.8"
  }
 },
 "nbformat": 4,
 "nbformat_minor": 4
}

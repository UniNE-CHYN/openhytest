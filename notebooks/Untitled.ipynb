{
 "cells": [
  {
   "cell_type": "markdown",
   "metadata": {},
   "source": [
    "# Heat tracer interpretation using a constant dispersivity model (CDM)\n",
    " \n",
    "This notebook demonstrates how to use **OpenHyTest** for the interpretation of heat tracer data set from the Grimsel Test Site.\n",
    "\n",
    "Copyright 2020-2021 - Bernard Brixel & Nathan Dutler \n",
    "\n",
    "First, we append the openhytest folder to the system path using the 'sys' library and import than the 'openhytest' library as ht. In addition, we import the 'matplotlib.pyplot' library for plotting and the 'pandas' library for data management.\n",
    "   "
   ]
  },
  {
   "cell_type": "code",
   "execution_count": 1,
   "metadata": {},
   "outputs": [],
   "source": [
    "%matplotlib inline\n",
    "import sys\n",
    "sys.path.append(\"..\")\n",
    "import openhytest as ht\n",
    "import matplotlib.pyplot as plt\n",
    "import pandas as pd\n",
    "import numpy as np\n",
    "from scipy.special import airy"
   ]
  },
  {
   "cell_type": "markdown",
   "metadata": {},
   "source": [
    "Model implementation"
   ]
  },
  {
   "cell_type": "code",
   "execution_count": null,
   "metadata": {},
   "outputs": [],
   "source": [
    "#class CDMHeat(AnalyticalInterferenceModels):\n",
    "#def dimesionless_laplace(self, pd)\n",
    "\"\"\"\n",
    "New constant diespsivity model for heat tracer\n",
    "\"\"\"\n",
    "p = (1+sigma) / np.sqrt(pd*tr) * tb * pd\n",
    "sigmaf = (2.*p)/(Pe^2*(1-rID^2))\n",
    "y = rD*Pe + 1/(4*sigmaf)\n",
    "yI = Pe + 1/(4*sigmaf)\n",
    "ai, aip = airy(sigmaf**(1/3)*y)\n",
    "aiI = airy(sigmaf**(1/3)*yI\n",
    "C = np.exp(y-yI) * ai / (0.5 * aiI - sigmaf**(1/3)*aip)"
   ]
  }
 ],
 "metadata": {
  "kernelspec": {
   "display_name": "Python 3",
   "language": "python",
   "name": "python3"
  },
  "language_info": {
   "codemirror_mode": {
    "name": "ipython",
    "version": 3
   },
   "file_extension": ".py",
   "mimetype": "text/x-python",
   "name": "python",
   "nbconvert_exporter": "python",
   "pygments_lexer": "ipython3",
   "version": "3.7.4"
  }
 },
 "nbformat": 4,
 "nbformat_minor": 4
}

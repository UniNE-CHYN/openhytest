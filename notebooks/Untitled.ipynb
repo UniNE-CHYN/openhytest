{
 "cells": [
  {
   "cell_type": "markdown",
   "metadata": {},
   "source": [
    "# Heat tracer interpretation using a constant dispersivity model (CDM)\n",
    " \n",
    "This notebook demonstrates how to use **OpenHyTest** for the interpretation of heat tracer data set from the Grimsel Test Site.\n",
    "\n",
    "Copyright 2020-2021 - Bernard Brixel & Nathan Dutler \n",
    "\n",
    "First, we append the openhytest folder to the system path using the 'sys' library and import than the 'openhytest' library as ht. In addition, we import the 'matplotlib.pyplot' library for plotting and the 'pandas' library for data management.\n",
    "   "
   ]
  },
  {
   "cell_type": "code",
   "execution_count": 1,
   "metadata": {},
   "outputs": [],
   "source": [
    "%matplotlib inline\n",
    "import sys\n",
    "sys.path.append(\"..\")\n",
    "import openhytest as ht\n",
    "import matplotlib.pyplot as plt\n",
    "import pandas as pd\n",
    "import numpy as np\n",
    "from scipy.special import airy"
   ]
  },
  {
   "cell_type": "markdown",
   "metadata": {},
   "source": [
    "Model implementation"
   ]
  },
  {
   "cell_type": "code",
   "execution_count": 9,
   "metadata": {},
   "outputs": [],
   "source": [
    "#class CDMHeat(AnalyticalInterferenceModels):\n",
    "def dimesionless_laplace(self, pd):\n",
    "    p = (1+self.sigma) / np.sqrt(pd*self.tr) * self.tb * pd \n",
    "    sigmaf = (2.*p)/(self.Pe^2*(1-self.rID^2))\n",
    "    y = self.rID * self.Pe + 1/(4*sigmaf)\n",
    "    yI = self.Pe + 1/(4*sigmaf)\n",
    "    ai, aip = airy(sigmaf**(1/3)*y)\n",
    "    aiI = airy(sigmaf**(1/3)*yI)\n",
    "    return (np.exp(y-yI)*ai) / (0.5 * aiI - sigmaf ** (1/3) * aip)\n",
    "\n",
    "def plot_typecurve(self):\n",
    "    td = np.logspace(-1, 6)\n",
    "    self.tb = 200 #advective time\n",
    "    self.tr = 0.001\n",
    "    self.Pe = 1 #Peclet number\n",
    "    self.rID = 0.01\n",
    "    fig, ax = plt.subplots(1,1)\n",
    "    sd = self._laplace_drawdown(td, inversion_option='dehoog')\n",
    "    d = {'t': td, 's': sd}\n",
    "    df = pda.DataFrame(data=d)\n",
    "    dummy = ht.preprocessing(df=df)\n",
    "    dummy.ldiff()\n",
    "    color = next(ax._get_lines.prop_cycler)['color']\n",
    "    ax.plot(td, sd, '-', color=color)\n",
    "    ax.plot(dummy.der.t, dummy.der.s, ':', color=color)\n",
    "    plt.xlabel('$t_D$')\n",
    "    plt.ylabel('$C_D$')\n",
    "    plt.title('test CMD')\n",
    "    plt.legend()\n",
    "    plt.xlim((0, 1e-6))\n",
    "    plt.ylim((1e-1, 1e6))\n",
    "    plt.grid('True')\n",
    "    plt.legend()\n",
    "    plt.show()"
   ]
  },
  {
   "cell_type": "code",
   "execution_count": 8,
   "metadata": {},
   "outputs": [
    {
     "ename": "NameError",
     "evalue": "name 'self' is not defined",
     "output_type": "error",
     "traceback": [
      "\u001b[1;31m---------------------------------------------------------------------------\u001b[0m",
      "\u001b[1;31mNameError\u001b[0m                                 Traceback (most recent call last)",
      "\u001b[1;32m<ipython-input-8-8a24acab8981>\u001b[0m in \u001b[0;36m<module>\u001b[1;34m\u001b[0m\n\u001b[0;32m      1\u001b[0m \u001b[0mtd\u001b[0m \u001b[1;33m=\u001b[0m \u001b[0mnp\u001b[0m\u001b[1;33m.\u001b[0m\u001b[0mlogspace\u001b[0m\u001b[1;33m(\u001b[0m\u001b[1;33m-\u001b[0m\u001b[1;36m1\u001b[0m\u001b[1;33m,\u001b[0m \u001b[1;36m6\u001b[0m\u001b[1;33m)\u001b[0m\u001b[1;33m\u001b[0m\u001b[1;33m\u001b[0m\u001b[0m\n\u001b[1;32m----> 2\u001b[1;33m \u001b[0mself\u001b[0m\u001b[1;33m.\u001b[0m\u001b[0mtb\u001b[0m \u001b[1;33m=\u001b[0m \u001b[1;36m200\u001b[0m \u001b[1;31m#advective time\u001b[0m\u001b[1;33m\u001b[0m\u001b[1;33m\u001b[0m\u001b[0m\n\u001b[0m\u001b[0;32m      3\u001b[0m \u001b[0mself\u001b[0m\u001b[1;33m.\u001b[0m\u001b[0mtr\u001b[0m \u001b[1;33m=\u001b[0m \u001b[1;36m0.001\u001b[0m\u001b[1;33m\u001b[0m\u001b[1;33m\u001b[0m\u001b[0m\n\u001b[0;32m      4\u001b[0m \u001b[0mself\u001b[0m\u001b[1;33m.\u001b[0m\u001b[0mPe\u001b[0m \u001b[1;33m=\u001b[0m \u001b[1;36m1\u001b[0m \u001b[1;31m#Peclet number\u001b[0m\u001b[1;33m\u001b[0m\u001b[1;33m\u001b[0m\u001b[0m\n\u001b[0;32m      5\u001b[0m \u001b[0mself\u001b[0m\u001b[1;33m.\u001b[0m\u001b[0mrID\u001b[0m \u001b[1;33m=\u001b[0m \u001b[1;36m0.01\u001b[0m\u001b[1;33m\u001b[0m\u001b[1;33m\u001b[0m\u001b[0m\n",
      "\u001b[1;31mNameError\u001b[0m: name 'self' is not defined"
     ]
    }
   ],
   "source": []
  },
  {
   "cell_type": "code",
   "execution_count": null,
   "metadata": {},
   "outputs": [],
   "source": []
  }
 ],
 "metadata": {
  "kernelspec": {
   "display_name": "Python 3",
   "language": "python",
   "name": "python3"
  },
  "language_info": {
   "codemirror_mode": {
    "name": "ipython",
    "version": 3
   },
   "file_extension": ".py",
   "mimetype": "text/x-python",
   "name": "python",
   "nbconvert_exporter": "python",
   "pygments_lexer": "ipython3",
   "version": "3.7.4"
  }
 },
 "nbformat": 4,
 "nbformat_minor": 4
}

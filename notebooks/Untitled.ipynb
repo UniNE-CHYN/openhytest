{
 "cells": [
  {
   "cell_type": "code",
   "execution_count": 1,
   "metadata": {},
   "outputs": [],
   "source": [
    "import pandas as pd\n",
    "import numpy as np\n",
    "import openhytest as ht\n",
    "import scipy.interpolate as interp2d\n",
    "import matplotlib.pyplot as plt\n",
    "from scipy import signal"
   ]
  },
  {
   "cell_type": "code",
   "execution_count": null,
   "metadata": {},
   "outputs": [],
   "source": [
    "def agrawal_time(self, df=None, Qmat=None, agrawal=None):\n",
    "        \"\"\"\n",
    "        Computes equivalent Agarwal (1980) time for recovery tests.\n",
    "        Agarwal has shown in 1980 that recovery test can be interpreted with \n",
    "        the same solutions than pumping test if one interprets the residual\n",
    "        drawdown sr = s(t) - s(end of pumping) as a function of an equivalent\n",
    "        time that is computed from the pumping rates history. The theory is \n",
    "        based on the superposition principle.\n",
    "\n",
    "        :param df: needs a pandas dataframe with vector t and s\n",
    "                column t = vector containing the time since the beginning of the recovery\n",
    "                column s = the residual drawdown is defined as follows:\n",
    "                    sr(tr) = s(tp) - s(tr)\n",
    "                    It is equal to 0 when the the pumping stops and it increases progressively when the aquifer recovers its equilibrium.\n",
    "        :param Qmat: needs a pandas dataframe with vector t and q\n",
    "          size = nb of lines = nb of pumping periods\n",
    "          two colums\n",
    "                column t = time \n",
    "                column q = flow rate during the period\n",
    "\n",
    "        :return agrawal: equivalent Agarwal (1980) time and drawdown, t and s \n",
    "\n",
    "        :Reference: Agarwal, R.G., 1980. A new method to account for producing\n",
    "        time effects when drawdown type curves are used to analyse pressure \n",
    "        buildup and other test data. Proceedings of the 55th Annual Fall \n",
    "        Technical Conference and Exhibition of the Society of Petroleum \n",
    "        Engineers. Paper SPE 9289    \n",
    "\n",
    "        \"\"\"        \n",
    "\n",
    "n=size(d,1);\n",
    "if( n==1 )\n",
    "    ta= d*tr./(d+tr);\n",
    "else\n",
    "tp=d(:,1);\n",
    "qp=d(:,2);\n",
    "ta=tp(n-1)./(tr+tp(n-1)).^(qp(1)./(qp(n-1)-qp(n)));\n",
    "for j=2:n-1;\n",
    "    ta=ta.*((tp(n-1)-tp(j-1))./(tr+tp(n-1)-tp(j-1))).^((qp(j)-qp(j-1))./(qp(n-1)-qp(n)));\n",
    "end\n",
    "ta=ta.*tr;\n",
    "end\n",
    "\n",
    "For late time, the agarwal time all converge to the same time values.\n",
    "This creates duplicates that need to be removed.\n",
    "[ta,i]=unique(ta);\n",
    "sa=sr(i);        \n",
    "        \n",
    "        \n",
    "        \n",
    "    return"
   ]
  }
 ],
 "metadata": {
  "kernelspec": {
   "display_name": "Python 3",
   "language": "python",
   "name": "python3"
  },
  "language_info": {
   "codemirror_mode": {
    "name": "ipython",
    "version": 3
   },
   "file_extension": ".py",
   "mimetype": "text/x-python",
   "name": "python",
   "nbconvert_exporter": "python",
   "pygments_lexer": "ipython3",
   "version": "3.7.4"
  }
 },
 "nbformat": 4,
 "nbformat_minor": 4
}

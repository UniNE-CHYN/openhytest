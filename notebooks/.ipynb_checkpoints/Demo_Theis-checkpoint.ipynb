{
 "cells": [
  {
   "cell_type": "markdown",
   "metadata": {},
   "source": [
    "# Theis (1935) interpretation  \n",
    " \n",
    "This notebook demonstrates how to use **OpenHyTest** for the interpretation of a pumping test with the Theis (1935) solution.\n",
    "\n",
    "Copyright 1998-2020 - Philippe Renard, Nathan Dutler & Bernard Brixel\n",
    "\n",
    "First, we append the openhytest folder to the system path using the 'sys' library and import than the 'openhytest' library as ht. In addition, we import the 'matplotlib.pyplot' library for plotting and the 'pandas' library for data management.\n"
   ]
  },
  {
   "cell_type": "code",
   "execution_count": 1,
   "metadata": {},
   "outputs": [],
   "source": [
    "import sys\n",
    "sys.path.append(\"..\")\n",
    "import openhytest as ht\n",
    "import matplotlib.pyplot as plt\n",
    "import pandas as pd"
   ]
  },
  {
   "cell_type": "markdown",
   "metadata": {},
   "source": [
    " ## Load the data\n",
    " The data set for this example has been typed from: \n",
    " Table 5.1, page 172 in the following book:\n",
    " C.W. Fetter, 2001, Applied Hydrogeology, Fourth Edition.\n",
    " Prentice Hall, Upper Saddle River, 598 pp."
   ]
  },
  {
   "cell_type": "markdown",
   "metadata": {},
   "source": [
    "For this example, the data is stored in the ascii file `ths_ds1.txt` that contains two columns as we can see if you edit the data file with your prefered text editor. The first column is the time in seconds. The second column contains the drawdown in meters.\n",
    "\n",
    "It is also possible to import the data from complex files but we will not discuss this point here (for more information consult the pandas website https://pandas.pydata.org/ or check the jupiter demostration of multi_arrays.)\n",
    "\n",
    "Let us now load the data in the python workspace with the pd.read_csv function from pandas library. This allows to create a pandas timeseries with two entries called: t and s containing the data. We will use them in the next steps, but we can first plot them to check graphicaly that they have been correctly loaded."
   ]
  },
  {
   "cell_type": "code",
   "execution_count": 2,
   "metadata": {},
   "outputs": [],
   "source": [
    "name = [\"t\",\"s\"]\n",
    "dtypes = {'t': 'float', 's': 'float'}\n",
    "data = pd.read_csv('../data/ths_ds1.txt', sep=\" \", header = None, names=name, dtype=dtypes)"
   ]
  },
  {
   "cell_type": "code",
   "execution_count": 3,
   "metadata": {},
   "outputs": [],
   "source": [
    "plt.plot(data.t,data.s,'o')\n",
    "plt.xlabel('Time in seconds')\n",
    "plt.ylabel('Drawdown in meters')\n",
    "plt.show()"
   ]
  },
  {
   "cell_type": "markdown",
   "metadata": {},
   "source": [
    " ## Diagnostic plot \n",
    " \n",
    " In order to display the diagnostic plot of the data, we use the function diagnostic(t,s) provided by the prepreocessing tool."
   ]
  },
  {
   "cell_type": "code",
   "execution_count": 4,
   "metadata": {},
   "outputs": [],
   "source": [
    "ht.diagnostic(data)"
   ]
  },
  {
   "cell_type": "markdown",
   "metadata": {},
   "source": [
    "The plot shows a typical 2D infinite acting radial flow.\n",
    "The derivative stabilizes at late time and the derivative is larger than\n",
    "the drawdown at early time. \n",
    "\n",
    "We will therefore interpret the data with the Theis (1935) solution\n",
    "that allows to model such behaviour\n",
    " \n",
    "Openhytest syntax : \n",
    "\n",
    "\n",
    "Model parameter guess :\n",
    "In order to determine the value of the Theis model parameter, we first \n",
    "use the function ... to estimate roughly an initial guess p0.\n",
    "\n",
    "For the Theis (1935) model, the parameter vector contains two values: the\n",
    "first is the slope a of the late time straight line, while the\n",
    "second parameter is the time t0 at which this straight line\n",
    "intercept the axis s=0."
   ]
  },
  {
   "cell_type": "code",
   "execution_count": 5,
   "metadata": {},
   "outputs": [],
   "source": [
    "q = 1.3888e-2 #pumping rate in m3/s\n",
    "d = 250 #radial distance in m\n",
    "theis_model=ht.Theis(Q=q, r=d, df=data)\n",
    "theis_model.plot_typecurve()"
   ]
  },
  {
   "cell_type": "code",
   "execution_count": 6,
   "metadata": {},
   "outputs": [
    {
     "name": "stdout",
     "output_type": "stream",
     "text": [
      "[  1.70038569 341.82452507]\n"
     ]
    }
   ],
   "source": [
    "p0 = theis_model.guess_params()\n",
    "print(p0)"
   ]
  },
  {
   "cell_type": "markdown",
   "metadata": {},
   "source": [
    "To check visually the quality of this first guess, we then plot the model\n",
    "corresponding to these parameters and the data with the openhytest function\n",
    "trial. The function trial can be applied for any model and therefore it\n",
    "requires that the name of model ...  is provided together with the values of\n",
    "the parameter p0 and the data. ... is the name of the function that\n",
    "computes the drawdown from p0 and t.\n",
    "\n",
    "We see in the resulting figure both in log-log and semi-log scale\n",
    "that the fit is already pretty good for this example."
   ]
  },
  {
   "cell_type": "code",
   "execution_count": 7,
   "metadata": {},
   "outputs": [
    {
     "name": "stdout",
     "output_type": "stream",
     "text": [
      "T =  0.0014965736409743885 m2/s\n",
      "S =  1.838230595036379e-05 -\n",
      "Ri =  3125.64516579519 m\n"
     ]
    }
   ],
   "source": [
    "theis_model.trial()"
   ]
  },
  {
   "cell_type": "markdown",
   "metadata": {},
   "source": [
    "Model parameter identification:\n",
    "\n",
    "In the previous steps, we obtained a rough initial guess that is used here\n",
    "as an initial value in an iterative non linear optimization technique to\n",
    "fit the model to the complete data set. This is done with the hypy Theis model fit.\n",
    "\n",
    "We see visually that the fit has been improved. The values of the\n",
    "parameters have slightly changed. "
   ]
  },
  {
   "cell_type": "code",
   "execution_count": 8,
   "metadata": {},
   "outputs": [
    {
     "name": "stdout",
     "output_type": "stream",
     "text": [
      "`ftol` termination condition is satisfied.\n",
      "Function evaluations 13, initial cost 3.2141e-02, final cost 8.4643e-03, first-order optimality 2.18e-10.\n",
      "T =  0.001425123529580095 m2/s\n",
      "S =  2.110457423829018e-05 -\n",
      "Ri =  2846.613998659661 m\n",
      "[  1.78563637 412.12162662]\n"
     ]
    }
   ],
   "source": [
    "p = theis_model.fit()\n",
    "theis_model.trial()\n",
    "print(p)"
   ]
  },
  {
   "cell_type": "markdown",
   "metadata": {},
   "source": [
    "We can use the command theis_model.rpt() to calculate and report the result in one step. This command has more attributes (i.e. option_fit, ttle, author, filetype and reptext),  which allow to specify the output. The option_fit allow to specify, which algorithm in the fit function is used, either Levenberg-Marquard or Trust Region Reflective algorithm (more in the scipy.optimize library, command least_squares). "
   ]
  },
  {
   "cell_type": "code",
   "execution_count": 9,
   "metadata": {},
   "outputs": [
    {
     "name": "stdout",
     "output_type": "stream",
     "text": [
      "`gtol` termination condition is satisfied.\n",
      "Function evaluations 1, initial cost 8.4643e-03, final cost 8.4643e-03, first-order optimality 2.18e-10.\n"
     ]
    }
   ],
   "source": [
    "theis_model.rpt(option_fit='trf', ttle='Theis (1935)', author='openhytest Developer', filetype='pdf', reptext='Report_Theis_example')"
   ]
  },
  {
   "cell_type": "markdown",
   "metadata": {},
   "source": [
    "The estimated transmissivity is 1.4e-3 m2/s and the storativity is 2.1e-5. These numbers compare well with the values estimated by Fetter (2001) which are the following:\n",
    "\n",
    "Type curve matching (p.173):\n",
    "T = 1.5 e-3 m2/s \n",
    "S = 2.4 e-5 \n",
    "\n",
    "Straight line analysis (p. 174-175):\n",
    "T = 1.5 e-3 m2/s \n",
    "S = 1.7 e-5"
   ]
  },
  {
   "cell_type": "markdown",
   "metadata": {},
   "source": [
    "The following attributes can be accessed and be used for further plotting or calculations. All attributes and their description can be found in the   documentation."
   ]
  },
  {
   "cell_type": "code",
   "execution_count": 26,
   "metadata": {},
   "outputs": [
    {
     "name": "stdout",
     "output_type": "stream",
     "text": [
      "0.013888\n",
      "250\n",
      "[  1.78563637 412.12162624]\n",
      "          t        s\n",
      "0     180.0  0.09144\n",
      "1     300.0  0.21336\n",
      "2     480.0  0.39624\n",
      "3     720.0  0.64008\n",
      "4    1200.0  0.97536\n",
      "5    1440.0  1.09728\n",
      "6    1800.0  1.24968\n",
      "7    2280.0  1.43256\n",
      "8    2820.0  1.55448\n",
      "9    3000.0  1.61544\n",
      "10   3600.0  1.73736\n",
      "11   4200.0  1.85928\n",
      "12   4800.0  1.92024\n",
      "13   5400.0  2.04216\n",
      "14   6000.0  2.13360\n",
      "15   7800.0  2.28600\n",
      "16   9600.0  2.52984\n",
      "17  12000.0  2.59080\n",
      "18  15600.0  2.80416\n",
      "19  19200.0  2.95656\n",
      "20  22800.0  3.10896\n",
      "21  30000.0  3.32232\n",
      "               t            s\n",
      "0     214.727654     0.229797\n",
      "1     256.155363     0.275977\n",
      "2     305.575779     0.328335\n",
      "3     364.530945     0.385790\n",
      "4     434.860415     0.446316\n",
      "5     518.758648     0.507116\n",
      "6     618.843486     0.565238\n",
      "7     738.237833     0.617955\n",
      "8     880.667100     0.661794\n",
      "9    1050.575446     0.692113\n",
      "10   1253.264449     0.704911\n",
      "11   1495.058528     0.699857\n",
      "12   1783.502279     0.683954\n",
      "13   2127.595891     0.673705\n",
      "14   2538.075968     0.689472\n",
      "15   3027.750546     0.723215\n",
      "16   3611.898731     0.696645\n",
      "17   4308.747450     0.672487\n",
      "18   5140.040175     0.786495\n",
      "19   6131.715378     0.365532\n",
      "20   7314.715878     1.986569\n",
      "21   8725.954334    -2.651857\n",
      "22  10409.465016     6.127368\n",
      "23  12417.777790    32.930939\n",
      "24  14813.557181  -101.238734\n",
      "25  17671.557670   229.090667\n",
      "26  21080.956227 -2047.054383\n",
      "27  25148.134857  -255.967068\n",
      "[  180.           229.65442958   293.00642792   373.83457814\n",
      "   476.95981556   608.53296874   776.4016212    990.57817467\n",
      "  1263.83703142  1612.47651406  2057.29096692  2624.81101936\n",
      "  3348.88598557  4272.70278188  5451.3617785   6955.16322036\n",
      "  8873.80023331 11321.7085043  14444.89171337 18429.6298153\n",
      " 23513.58956984 30000.        ]\n",
      "[0.10691751 0.16731506 0.24455942 0.3382516  0.44726233 0.57002044\n",
      " 0.70476145 0.84971094 1.00320231 1.16374093 1.33002968 1.50096965\n",
      " 1.67564641 1.85330932 2.03334854 2.2152726  2.39868781 2.58328036\n",
      " 2.76880099 2.95505232 3.14187838 3.32915616]\n",
      "               t         s\n",
      "0     235.619871  0.279397\n",
      "1     308.426241  0.341416\n",
      "2     403.729728  0.408995\n",
      "3     528.481923  0.478085\n",
      "4     691.782457  0.542921\n",
      "5     905.542739  0.597575\n",
      "6    1185.354793  0.639361\n",
      "7    1551.628572  0.672102\n",
      "8    2031.080684  0.701382\n",
      "9    2658.683154  0.719306\n",
      "10   3480.214336  0.713223\n",
      "11   4555.598063  0.696489\n",
      "12   5963.274587  0.707402\n",
      "13   7805.922144  0.756374\n",
      "14  10217.946471  0.783808\n",
      "15  13375.284580  0.744320\n",
      "16  17508.237894  0.736987\n",
      "17  22918.270808  0.765105\n",
      "-0.002218871371617971\n",
      "0.05530141979647172\n",
      "0.02773959531139891\n",
      "Theis (1935)\n",
      "Theis (1935) model\n",
      "8\n",
      "6\n",
      "0.00142512353000793\n",
      "2.110457422520216e-05\n",
      "2846.6139999696156\n"
     ]
    },
    {
     "data": {
      "text/plain": [
       " active_mask: array([0., 0.])\n",
       "        cost: 0.008464336628442027\n",
       "         fun: array([-0.0154788 , -0.03956743, -0.05405974, -0.02179972,  0.00544752,\n",
       "        0.00887276,  0.01148256,  0.03091505,  0.00242802,  0.01908246,\n",
       "        0.00926043,  0.01856616, -0.01880933,  0.01584093,  0.02883856,\n",
       "       -0.01542173,  0.07166164, -0.03671757, -0.02338935, -0.02986463,\n",
       "       -0.00926214, -0.00684082])\n",
       "        grad: array([4.61562732e-11, 2.15202521e-10])\n",
       "         jac: array([[-5.98771432e-02,  5.18721695e-04],\n",
       "       [-1.41645539e-01,  8.68523190e-04],\n",
       "       [-2.52178860e-01,  1.16063419e-03],\n",
       "       [-3.70668818e-01,  1.36347616e-03],\n",
       "       [-5.43174688e-01,  1.55099108e-03],\n",
       "       [-6.09534650e-01,  1.60176847e-03],\n",
       "       [-6.93420823e-01,  1.65420823e-03],\n",
       "       [-7.84955425e-01,  1.69969736e-03],\n",
       "       [-8.69187035e-01,  1.73313208e-03],\n",
       "       [-8.93999230e-01,  1.74170612e-03],\n",
       "       [-9.67777990e-01,  1.76429439e-03],\n",
       "       [-1.03084473e+00,  1.78060800e-03],\n",
       "       [-1.08591501e+00,  1.79294213e-03],\n",
       "       [-1.13478820e+00,  1.80259438e-03],\n",
       "       [-1.17871784e+00,  1.81035357e-03],\n",
       "       [-1.28885241e+00,  1.82657571e-03],\n",
       "       [-1.37663995e+00,  1.83678828e-03],\n",
       "       [-1.47147405e+00,  1.84568535e-03],\n",
       "       [-1.58349673e+00,  1.85393628e-03],\n",
       "       [-1.67247077e+00,  1.85911183e-03],\n",
       "       [-1.74628060e+00,  1.86266132e-03],\n",
       "       [-1.86441141e+00,  1.86721455e-03]])\n",
       "     message: '`gtol` termination condition is satisfied.'\n",
       "        nfev: 5\n",
       "        njev: 5\n",
       "  optimality: 2.152025206053989e-10\n",
       "      status: 1\n",
       "     success: True\n",
       "           x: array([  1.78563637, 412.12162624])"
      ]
     },
     "execution_count": 26,
     "metadata": {},
     "output_type": "execute_result"
    }
   ],
   "source": [
    "print(theis_model.Q)\n",
    "print(theis_model.r)\n",
    "print(theis_model.p)\n",
    "print(theis_model.df)\n",
    "print(theis_model.der)\n",
    "print(theis_model.tc)\n",
    "print(theis_model.sc)\n",
    "print(theis_model.derc)\n",
    "print(theis_model.mr)\n",
    "print(theis_model.sr)\n",
    "print(theis_model.rms) \n",
    "print(theis_model.ttle) \n",
    "print(theis_model.model_label) \n",
    "print(theis_model.xsize )\n",
    "print(theis_model.ysize )\n",
    "print(theis_model.Transmissivity )\n",
    "print(theis_model.Storativity )\n",
    "print(theis_model.RadInfluence )\n",
    "theis_model.detailled_p "
   ]
  },
  {
   "cell_type": "markdown",
   "metadata": {},
   "source": [
    "## Summary\n",
    "The shortest way to produce results with loaded data is done in 3 lines of code. Once this is done."
   ]
  },
  {
   "cell_type": "code",
   "execution_count": 14,
   "metadata": {},
   "outputs": [
    {
     "name": "stdout",
     "output_type": "stream",
     "text": [
      "`gtol` termination condition is satisfied.\n",
      "Function evaluations 5, initial cost 3.2141e-02, final cost 8.4643e-03, first-order optimality 2.15e-10.\n"
     ]
    },
    {
     "data": {
      "image/png": "[encoded data removed]",
      "text/plain": [
       "<Figure size 576x432 with 1 Axes>"
      ]
     },
     "metadata": {
      "needs_background": "light"
     },
     "output_type": "display_data"
    }
   ],
   "source": [
    "theis_model=ht.Theis(Q=1.3888e-2, r=250, df=data)\n",
    "theis_model.guess_params()\n",
    "theis_model.rpt(option_fit='trf', ttle='Theis (1935)', author='openhytest Developer', filetype='svg', reptext='Report_Theis_example')"
   ]
  },
  {
   "cell_type": "code",
   "execution_count": null,
   "metadata": {},
   "outputs": [],
   "source": []
  }
 ],
 "metadata": {
  "kernelspec": {
   "display_name": "Python 3",
   "language": "python",
   "name": "python3"
  },
  "language_info": {
   "codemirror_mode": {
    "name": "ipython",
    "version": 3
   },
   "file_extension": ".py",
   "mimetype": "text/x-python",
   "name": "python",
   "nbconvert_exporter": "python",
   "pygments_lexer": "ipython3",
   "version": "3.7.4"
  }
 },
 "nbformat": 4,
 "nbformat_minor": 4
}

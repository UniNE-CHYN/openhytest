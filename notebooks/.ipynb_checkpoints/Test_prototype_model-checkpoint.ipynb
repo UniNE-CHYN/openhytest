{
 "cells": [
  {
   "cell_type": "markdown",
   "metadata": {},
   "source": [
    "# Prototype for analytical model classes\n",
    "\n",
    "The aim of this worksheet is to experiment and design a set of classes for expressing analytical models for well test interpretation. The general idea is that there should be a parent generic class and a set of derived classes allowing to avoid repeating code.\n",
    "\n",
    "In this first prototype, I consider only the generic parent class and two daughter classes.\n",
    "\n",
    "Nov. 7 2019 - P. Renard\n"
   ]
  },
  {
   "cell_type": "code",
   "execution_count": 1,
   "metadata": {},
   "outputs": [],
   "source": [
    "import numpy as np\n",
    "from scipy.special import expn as E1\n",
    "import pandas as pd\n",
    "import matplotlib.pyplot as plt\n",
    "\n",
    "#import math"
   ]
  },
  {
   "cell_type": "code",
   "execution_count": 21,
   "metadata": {},
   "outputs": [],
   "source": [
    "# Read a data set to test ideas\n",
    "df = pd.read_csv('../data/ths_ds1.txt',header=None,sep=\" \",names=['t','s'])"
   ]
  },
  {
   "cell_type": "markdown",
   "metadata": {},
   "source": [
    "Below is the part where the classes are defined in order to test the concept.\n",
    "\n",
    "The first thing is to define a generic class AnalyticalModels of analytical models that should contain all the generic functionalities.  Then, we derive two examples of daughter classes: the theis and theis_noflow models. \n",
    "\n",
    "The theis_noflow model is wrong (wrong equations and parametrizations and needs to be corrected), but the principle seems to work.\n",
    "\n",
    "The next steps would be to implement:\n",
    "- the fit function\n",
    "- one or a pair of examples with laplace domain solution\n"
   ]
  },
  {
   "cell_type": "code",
   "execution_count": 22,
   "metadata": {},
   "outputs": [],
   "source": [
    "# Utilities\n",
    "\n",
    "def get_logline(df):\n",
    "    \n",
    "    logt = np.log10( df.t ).values\n",
    "    Gt = np.array( [logt, np.ones(logt.shape)] )\n",
    "    p = np.linalg.inv( Gt.dot(Gt.T) ).dot(Gt).dot(df.s) \n",
    "    p[1] = 10**( -p[1]/p[0] )\n",
    "\n",
    "    return p\n",
    "    \n",
    "# Parent generic class\n",
    "\n",
    "class AnalyticalModels():\n",
    "    def __init__(self,Q=None,r=None):\n",
    "        self.Q = Q\n",
    "        self.r = r\n",
    "    \n",
    "    def _dimensionless_time(self,p,t):\n",
    "        return (t/(0.5628*p[1])) * 0.25\n",
    "    \n",
    "    def _dimensional_drawdown(self,p,sd):\n",
    "        return (sd*p[0]*2)/2.302585092994046\n",
    "    \n",
    "    def dimensionless(self,td):\n",
    "        print(\"Warning - undefined\")\n",
    "        return None\n",
    "    \n",
    "    def __call__(self,t):\n",
    "        print(\"Warning - undefined\")\n",
    "        return None\n",
    "    \n",
    "    def T(self,p):\n",
    "        return 0.1832339 * self.Q / p[0]\n",
    "    \n",
    "    def S(self,p):\n",
    "        return 2.458394*self.T(p)*p[1]/self.r**2 \n",
    "    \n",
    "    def RadiusOfInfluence(self,p,t):\n",
    "        return 2*np.sqrt( self.T(p) * t[len(t)-1] / self.S(p) )\n",
    "    \n",
    "    def trial(self,p,df):\n",
    "        plt.semilogx(df.t, self.__call__(p,df.t), df.t, df.s,'o' )\n",
    "        plt.grid('on')\n",
    "        plt.show()\n",
    "        print( 'T = ', self.T(p) ,'m2/s')\n",
    "        print( 'S = ', self.S(p) ,'-')\n",
    "        print( 'Ri = ',self.RadiusOfInfluence(p,df.t),'m' )\n",
    "\n",
    "# Derived daughter classes\n",
    "\n",
    "class theis(AnalyticalModels):\n",
    "    \n",
    "    def dimensionless(self,td):\n",
    "        return 0.5*E1(1,0.25/td)\n",
    "      \n",
    "    def dimensionless_logderivative(self,td):\n",
    "        return 0.5*np.exp(-0.25/td)\n",
    "    \n",
    "    def __call__(self,p,t):\n",
    "        td = self._dimensionless_time(p,t)\n",
    "        sd = self.dimensionless( td )\n",
    "        s = self._dimensional_drawdown(p,sd)\n",
    "        return s\n",
    "    \n",
    "    def guess_params(self,df):\n",
    "        n = len(df)/3\n",
    "        return get_logline(df[df.index>n])\n",
    "    \n",
    "    def plot_typecurve(self):\n",
    "        td = np.logspace(-1,4)\n",
    "        sd = self.dimensionless(td)\n",
    "        dd = self.dimensionless_logderivative(td)\n",
    "\n",
    "        plt.loglog(td,sd,td,dd,'--')\n",
    "        plt.xlabel('$t_D$')\n",
    "        plt.ylabel('$s_D$')\n",
    "        plt.xlim((1e-1,1e4))\n",
    "        plt.ylim((1e-2,10))\n",
    "        plt.grid('on')\n",
    "        plt.legend(['Theis','Derivative'])\n",
    "        plt.show()\n",
    "\n",
    "    \n",
    "class theis_noflow(AnalyticalModels):\n",
    "    \n",
    "    def dimensionless(self,td,ri):\n",
    "        return 0.5*E1(1,0.25/td)-0.5*E1(1,0.25*ri/td)\n",
    "    \n",
    "    def __call__(self,p,t):\n",
    "        ri =  p[2] / p[1]\n",
    "        td = self._dimensionless_time(p,t)\n",
    "        sd = self.dimensionless( td , ri) \n",
    "        s = self._dimensional_drawdown(p,sd)\n",
    "        return s\n",
    "            \n"
   ]
  },
  {
   "cell_type": "markdown",
   "metadata": {},
   "source": [
    "# How to create a type curve"
   ]
  },
  {
   "cell_type": "code",
   "execution_count": 5,
   "metadata": {},
   "outputs": [
    {
     "data": {
      "image/png": "[encoded data removed]",
      "text/plain": [
       "<Figure size 432x288 with 1 Axes>"
      ]
     },
     "metadata": {
      "needs_background": "light"
     },
     "output_type": "display_data"
    }
   ],
   "source": [
    "abaque = theis()\n",
    "abaque.plot_typecurve()"
   ]
  },
  {
   "cell_type": "markdown",
   "metadata": {},
   "source": [
    "# How to adjust manually a Theis model"
   ]
  },
  {
   "cell_type": "code",
   "execution_count": 23,
   "metadata": {},
   "outputs": [
    {
     "name": "stdout",
     "output_type": "stream",
     "text": [
      "estimated parameter vector: [  1.70038569 341.82452507]\n"
     ]
    },
    {
     "data": {
      "image/png": "[encoded data removed]",
      "text/plain": [
       "<Figure size 432x288 with 1 Axes>"
      ]
     },
     "metadata": {
      "needs_background": "light"
     },
     "output_type": "display_data"
    },
    {
     "name": "stdout",
     "output_type": "stream",
     "text": [
      "T =  0.0014965736409743885 m2/s\n",
      "S =  2.0122075805838408e-05 -\n",
      "Ri =  2987.4681130830586 m\n"
     ]
    }
   ],
   "source": [
    "modele = theis(Q=1.3888e-2,r=250)\n",
    "p = modele.guess_params(df)\n",
    "print(\"estimated parameter vector:\",p)\n",
    "modele.trial(p,df)\n"
   ]
  },
  {
   "cell_type": "markdown",
   "metadata": {},
   "source": [
    "# Moving to no flow model"
   ]
  },
  {
   "cell_type": "code",
   "execution_count": 26,
   "metadata": {},
   "outputs": [
    {
     "data": {
      "image/png": "[encoded data removed]",
      "text/plain": [
       "<Figure size 432x288 with 1 Axes>"
      ]
     },
     "metadata": {
      "needs_background": "light"
     },
     "output_type": "display_data"
    },
    {
     "name": "stdout",
     "output_type": "stream",
     "text": [
      "T =  0.0010179661111111111 m2/s\n",
      "S =  0.00010010247119035556 -\n",
      "Ri =  1104.6759109847383 m\n"
     ]
    }
   ],
   "source": [
    "modele = theis_noflow(Q=0.01,r=100)\n",
    "p = [1.8,400,10000]\n",
    "modele.trial(p,df)"
   ]
  }
 ],
 "metadata": {
  "kernelspec": {
   "display_name": "Python 3",
   "language": "python",
   "name": "python3"
  },
  "language_info": {
   "codemirror_mode": {
    "name": "ipython",
    "version": 3
   },
   "file_extension": ".py",
   "mimetype": "text/x-python",
   "name": "python",
   "nbconvert_exporter": "python",
   "pygments_lexer": "ipython3",
   "version": "3.6.7"
  }
 },
 "nbformat": 4,
 "nbformat_minor": 4
}
